{
    "cells": [
        {
            "cell_type": "code",
            "execution_count": 1,
            "metadata": {},
            "outputs": [],
            "source": "import pandas as pd\nimport numpy as np"
        },
        {
            "cell_type": "code",
            "execution_count": 2,
            "metadata": {},
            "outputs": [
                {
                    "name": "stdout",
                    "output_type": "stream",
                    "text": "Data downloaded and read into a dataframe!\n"
                }
            ],
            "source": "df_can = pd.read_csv('https://raw.githubusercontent.com/AlienAsUsual/Coursera_Capstone/master/CanadaZipCodes2b.csv')\nprint('Data downloaded and read into a dataframe!')"
        },
        {
            "cell_type": "code",
            "execution_count": 3,
            "metadata": {},
            "outputs": [
                {
                    "data": {
                        "text/html": "<div>\n<style scoped>\n    .dataframe tbody tr th:only-of-type {\n        vertical-align: middle;\n    }\n\n    .dataframe tbody tr th {\n        vertical-align: top;\n    }\n\n    .dataframe thead th {\n        text-align: right;\n    }\n</style>\n<table border=\"1\" class=\"dataframe\">\n  <thead>\n    <tr style=\"text-align: right;\">\n      <th></th>\n      <th>PostalCode</th>\n      <th>Borough</th>\n      <th>Neighbourhood</th>\n      <th>Latitude</th>\n      <th>Longitude</th>\n    </tr>\n  </thead>\n  <tbody>\n    <tr>\n      <th>0</th>\n      <td>M1B</td>\n      <td>Scarborough</td>\n      <td>Malvern, Rouge</td>\n      <td>43.806686</td>\n      <td>-79.194353</td>\n    </tr>\n    <tr>\n      <th>1</th>\n      <td>M1C</td>\n      <td>Scarborough</td>\n      <td>Rouge Hill, Port Union, Highland Creek</td>\n      <td>43.784535</td>\n      <td>-79.160497</td>\n    </tr>\n    <tr>\n      <th>2</th>\n      <td>M1E</td>\n      <td>Scarborough</td>\n      <td>Guildwood, Morningside, West Hill</td>\n      <td>43.763573</td>\n      <td>-79.188711</td>\n    </tr>\n    <tr>\n      <th>3</th>\n      <td>M1G</td>\n      <td>Scarborough</td>\n      <td>Woburn</td>\n      <td>43.770992</td>\n      <td>-79.216917</td>\n    </tr>\n    <tr>\n      <th>4</th>\n      <td>M1H</td>\n      <td>Scarborough</td>\n      <td>Cedarbrae</td>\n      <td>43.773136</td>\n      <td>-79.239476</td>\n    </tr>\n  </tbody>\n</table>\n</div>",
                        "text/plain": "  PostalCode      Borough                           Neighbourhood   Latitude  \\\n0        M1B  Scarborough                          Malvern, Rouge  43.806686   \n1        M1C  Scarborough  Rouge Hill, Port Union, Highland Creek  43.784535   \n2        M1E  Scarborough       Guildwood, Morningside, West Hill  43.763573   \n3        M1G  Scarborough                                  Woburn  43.770992   \n4        M1H  Scarborough                               Cedarbrae  43.773136   \n\n   Longitude  \n0 -79.194353  \n1 -79.160497  \n2 -79.188711  \n3 -79.216917  \n4 -79.239476  "
                    },
                    "execution_count": 3,
                    "metadata": {},
                    "output_type": "execute_result"
                }
            ],
            "source": "df_can.head()"
        },
        {
            "cell_type": "code",
            "execution_count": 4,
            "metadata": {},
            "outputs": [
                {
                    "name": "stdout",
                    "output_type": "stream",
                    "text": "The DataFrame is :\n     PostalCode      Borough  \\\n0          M1B  Scarborough   \n1          M1C  Scarborough   \n2          M1E  Scarborough   \n3          M1G  Scarborough   \n4          M1H  Scarborough   \n..         ...          ...   \n98         M9N         York   \n99         M9P    Etobicoke   \n100        M9R    Etobicoke   \n101        M9V    Etobicoke   \n102        M9W    Etobicoke   \n\n                                         Neighbourhood   Latitude  Longitude  \n0                                       Malvern, Rouge  43.806686 -79.194353  \n1               Rouge Hill, Port Union, Highland Creek  43.784535 -79.160497  \n2                    Guildwood, Morningside, West Hill  43.763573 -79.188711  \n3                                               Woburn  43.770992 -79.216917  \n4                                            Cedarbrae  43.773136 -79.239476  \n..                                                 ...        ...        ...  \n98                                              Weston  43.706876 -79.518188  \n99                                           Westmount  43.696319 -79.532242  \n100  Kingsview Village, St. Phillips, Martin Grove ...  43.688905 -79.554724  \n101  South Steeles, Silverstone, Humbergate, Jamest...  43.739416 -79.588437  \n102                Northwest, West Humber - Clairville  43.706748 -79.594054  \n\n[103 rows x 5 columns]\n\nNumber of rows : 103\n\nNumber of columns : 5\n"
                }
            ],
            "source": "print('The DataFrame is :\\n', df_can)\n\n#get dataframe shape\nshape = df_can.shape\nprint('\\nNumber of rows :', shape[0])\nprint('\\nNumber of columns :', shape[1])"
        },
        {
            "cell_type": "code",
            "execution_count": null,
            "metadata": {},
            "outputs": [],
            "source": ""
        }
    ],
    "metadata": {
        "kernelspec": {
            "display_name": "Python 3.7",
            "language": "python",
            "name": "python3"
        },
        "language_info": {
            "codemirror_mode": {
                "name": "ipython",
                "version": 3
            },
            "file_extension": ".py",
            "mimetype": "text/x-python",
            "name": "python",
            "nbconvert_exporter": "python",
            "pygments_lexer": "ipython3",
            "version": "3.7.9"
        }
    },
    "nbformat": 4,
    "nbformat_minor": 1
}
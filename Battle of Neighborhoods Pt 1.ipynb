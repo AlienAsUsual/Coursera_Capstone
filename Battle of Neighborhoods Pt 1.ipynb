{
    "cells": [
        {
            "cell_type": "markdown",
            "metadata": {},
            "source": "# Battle of Neighborhoods Part 1\n"
        },
        {
            "cell_type": "markdown",
            "metadata": {},
            "source": "*Paw & Claw* is a pet sitting, walking, grooming and daycare service seeking to expand in the city of Portland, OR.  \n\nThey are interested in finding an ideal location **intersecting near** <ins>pet supply stores</ins>, and <ins>parks</ins>, with current limited existing Pet Services.\n\nThey report that the majority of customers that use their services live in apartments or condos.\n\nExtra (optional) - *Paw & Claw* is also interested in if the proposed new location would be suitable to include an expanded boarding service and want to understand the clients in the area travel frequently by exploring if travel related services are available nearby and their **ratings**.\n\n## The Data Used: \n[Wikipedia list of Portland neighborhoods](https://en.wikipedia.org/wiki/Neighborhoods_of_Portland,_Oregon)\n\nFoursquare API [Foursquare Venue Categories](https://developer.foursquare.com/docs/build-with-foursquare/categories/) and \n\n[Venue Tips](https://developer.foursquare.com/docs/api-reference/venues/tips//)\n\n## Methodology outline\n\n* Obtain data of all neighborhoods in Portland [Wikipedia list of neighborhoods](https://en.wikipedia.org/wiki/Neighborhoods_of_Portland,_Oregon)\n* Clean data\n* Focus on one area, radius (TBD)\n* Using Foursquare: Obtain venues\n* Exclude Neighborhoods with Pet Services\n* Sort by venue\n* Select most common Supporting venues\n* Find top 10 in venues\n* Analyze for top 3 prospective neighborhoods that have the most support\n\n-- Visualization\n* k-means clustering analysis\n* Obtain cluster result, and\n\n-- Visualization\n\n## Discussion\n\nObservations on areas with a high number of supporting venues, issues or concerns.\n\n## Conclusions\n\nSummary of recommended neighborhoods with supported data answering the client's question \"What is the ideal new location?\"\n\n* Extra (optional): futher sort to find if Travel services exist, and if any, their rating\n\nReference: [Foursquare Categories](https://developer.foursquare.com/docs/build-with-foursquare/categories/)\n\n### Proposed Primary Categories (subject to change):\n\n**Competitors:** \n\nPet Services\n\n**Support:**\n\nPet Cafe, Pet Store, Veterinarian\n\nPark, State/Provincial Park, Nature Preserve\n\nResidential Building (Apartment / Condo)\n\nDog Run, Farm, Field, Forest, Fishing Spot, Trail\n\nAnimal Shelter\n\n### Seconday categories:\n*Those interested in pets may also be interested in these categories*\n\nFamily indicators: Elementary School, High School, Middle School, Nursery School, Preschool, Private School\n\nActivities involving pets: Beach, Garden, Stables\n\nPet food providers: Market, Supermarket, Health Food Store, Grocery Store, Farmer's Market\n\nOther Great Outdoors, Outdoor Supply Store\n\n\n### Travel exploration (optional)\nTravel Agency, General Travel, Travel Lounge\n"
        },
        {
            "cell_type": "code",
            "execution_count": null,
            "metadata": {},
            "outputs": [],
            "source": ""
        }
    ],
    "metadata": {
        "kernelspec": {
            "display_name": "Python 3.7",
            "language": "python",
            "name": "python3"
        },
        "language_info": {
            "codemirror_mode": {
                "name": "ipython",
                "version": 3
            },
            "file_extension": ".py",
            "mimetype": "text/x-python",
            "name": "python",
            "nbconvert_exporter": "python",
            "pygments_lexer": "ipython3",
            "version": "3.7.9"
        }
    },
    "nbformat": 4,
    "nbformat_minor": 4
}